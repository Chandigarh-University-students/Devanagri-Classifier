{
  "nbformat": 4,
  "nbformat_minor": 0,
  "metadata": {
    "colab": {
      "name": "Devanagri2.py",
      "provenance": [],
      "collapsed_sections": [],
      "toc_visible": true,
      "authorship_tag": "ABX9TyM03Srl7kt44dUnMlxjE69l",
      "include_colab_link": true
    },
    "kernelspec": {
      "name": "python3",
      "display_name": "Python 3"
    },
    "language_info": {
      "name": "python"
    }
  },
  "cells": [
    {
      "cell_type": "markdown",
      "metadata": {
        "id": "view-in-github",
        "colab_type": "text"
      },
      "source": [
        "<a href=\"https://colab.research.google.com/github/Chandigarh-University-students/Devanagri-Text-Classifier/blob/main/Devanagri2_py.ipynb\" target=\"_parent\"><img src=\"https://colab.research.google.com/assets/colab-badge.svg\" alt=\"Open In Colab\"/></a>"
      ]
    },
    {
      "cell_type": "code",
      "metadata": {
        "id": "-WIVeDCUZeRN"
      },
      "source": [
        "from google.colab import drive"
      ],
      "execution_count": 1,
      "outputs": []
    },
    {
      "cell_type": "code",
      "metadata": {
        "colab": {
          "base_uri": "https://localhost:8080/"
        },
        "id": "uvoC35AcZ8Em",
        "outputId": "c8f9644c-e24a-46eb-cf42-8a102188bc1d"
      },
      "source": [
        "drive.mount('/content/drive')"
      ],
      "execution_count": 2,
      "outputs": [
        {
          "output_type": "stream",
          "name": "stdout",
          "text": [
            "Mounted at /content/drive\n"
          ]
        }
      ]
    },
    {
      "cell_type": "code",
      "metadata": {
        "id": "yynFGm6NabHZ"
      },
      "source": [
        "import numpy as np\n",
        "import os"
      ],
      "execution_count": 3,
      "outputs": []
    },
    {
      "cell_type": "code",
      "metadata": {
        "id": "3EAQlFAxbCDS"
      },
      "source": [
        "from PIL import Image\n"
      ],
      "execution_count": 4,
      "outputs": []
    },
    {
      "cell_type": "code",
      "metadata": {
        "id": "I-WMK4lBbVGX"
      },
      "source": [
        "IMG_WIDTH=32\n",
        "IMG_HEIGHT=32\n"
      ],
      "execution_count": 5,
      "outputs": []
    },
    {
      "cell_type": "code",
      "metadata": {
        "id": "87x3cdRdbGV4"
      },
      "source": [
        "def create_dataset_PIL(img_folder):\n",
        "    \n",
        "    img_data_array=[]\n",
        "    class_name=[]\n",
        "    for dir1 in os.listdir(img_folder):\n",
        "        for file in os.listdir(os.path.join(img_folder, dir1)):       \n",
        "            image_path= os.path.join(img_folder, dir1,  file)\n",
        "            image= np.array(Image.open(image_path))\n",
        "            image= np.resize(image,(IMG_HEIGHT,IMG_WIDTH,3))\n",
        "            image = image.astype('float32')\n",
        "            image /= 255  \n",
        "            img_data_array.append(image)\n",
        "            class_name.append(dir1)\n",
        "    return img_data_array , class_name"
      ],
      "execution_count": 10,
      "outputs": []
    },
    {
      "cell_type": "code",
      "metadata": {
        "id": "veDX_3h3bGtf"
      },
      "source": [
        "img_train_folder = '/content/drive/MyDrive/Devanagri dataset/DevanagariHandwrittenCharacterDataset/Train'"
      ],
      "execution_count": 7,
      "outputs": []
    },
    {
      "cell_type": "code",
      "metadata": {
        "id": "vN6DZu0EboDa"
      },
      "source": [
        "PIL_train_img_data, train_class_name=create_dataset_PIL(img_train_folder)\n"
      ],
      "execution_count": 11,
      "outputs": []
    },
    {
      "cell_type": "code",
      "metadata": {
        "colab": {
          "base_uri": "https://localhost:8080/"
        },
        "id": "u2yIJulIjcbJ",
        "outputId": "6679ff9e-de70-49a8-894a-ede5deba0eed"
      },
      "source": [
        "print(PIL_train_img_data[0])"
      ],
      "execution_count": 19,
      "outputs": [
        {
          "output_type": "stream",
          "name": "stdout",
          "text": [
            "[[[0.         0.         0.        ]\n",
            "  [0.         0.         0.        ]\n",
            "  [0.         0.         0.        ]\n",
            "  ...\n",
            "  [0.         0.         0.        ]\n",
            "  [0.         0.         0.        ]\n",
            "  [0.         0.         0.        ]]\n",
            "\n",
            " [[0.         0.         0.        ]\n",
            "  [0.         0.02745098 0.09019608]\n",
            "  [0.03529412 0.         0.        ]\n",
            "  ...\n",
            "  [0.         0.         0.        ]\n",
            "  [0.         0.         0.        ]\n",
            "  [0.         0.         0.        ]]\n",
            "\n",
            " [[0.         0.         0.18039216]\n",
            "  [0.8862745  1.         0.7647059 ]\n",
            "  [0.09019608 0.         0.        ]\n",
            "  ...\n",
            "  [0.         0.         0.        ]\n",
            "  [0.         0.         0.        ]\n",
            "  [0.         0.         0.        ]]\n",
            "\n",
            " ...\n",
            "\n",
            " [[0.         0.         0.        ]\n",
            "  [0.         0.         0.1764706 ]\n",
            "  [0.9411765  1.         0.99607843]\n",
            "  ...\n",
            "  [1.         0.99607843 0.89411765]\n",
            "  [0.7137255  0.4392157  0.15294118]\n",
            "  [0.02745098 0.         0.        ]]\n",
            "\n",
            " [[0.         0.         0.        ]\n",
            "  [0.         0.         0.        ]\n",
            "  [0.         0.04313726 0.3019608 ]\n",
            "  ...\n",
            "  [0.         0.00392157 0.02352941]\n",
            "  [0.12156863 0.50980395 0.90588236]\n",
            "  [0.84705883 0.         0.        ]]\n",
            "\n",
            " [[0.         0.         0.        ]\n",
            "  [0.         0.         0.        ]\n",
            "  [0.         0.         0.        ]\n",
            "  ...\n",
            "  [0.         0.         0.        ]\n",
            "  [0.         0.         0.        ]\n",
            "  [0.         0.         0.        ]]]\n"
          ]
        }
      ]
    }
  ]
}